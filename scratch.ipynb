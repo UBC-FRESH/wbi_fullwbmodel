{
 "cells": [
  {
   "cell_type": "markdown",
   "id": "5fc4eb3f-d4b4-4c25-a308-8b3cf82e0508",
   "metadata": {},
   "source": [
    "Scratch notebook to figure out what to do with all this new data."
   ]
  },
  {
   "cell_type": "code",
   "execution_count": 2,
   "id": "c92f62ee-06b2-4937-bddd-14cbc4e9f633",
   "metadata": {},
   "outputs": [],
   "source": [
    "#!jupyter labextension install @jupyter-widgets/jupyterlab-manager\n",
    "#!jupyter labextension install jupyter-leaflet"
   ]
  },
  {
   "cell_type": "code",
   "execution_count": null,
   "id": "caf9c22f-1190-406b-a256-53e0c0f9857e",
   "metadata": {},
   "outputs": [],
   "source": [
    "#!pip install alphashape\n",
    "#!pip install ipyleaflet\n",
    "#!pip install --upgrade ipyleaflet\n",
    "#!jupyter labextension install @jupyter-widgets/jupyterlab-manager jupyter-leaflet\n",
    "#!pip install libpysal"
   ]
  },
  {
   "cell_type": "code",
   "execution_count": 2,
   "id": "0beea6e2-33a2-4cf0-be5c-d457b60fcabc",
   "metadata": {},
   "outputs": [],
   "source": [
    "import geopandas as gpd\n",
    "#import alphashape\n",
    "#import ipyleaflet\n",
    "#from ipyleaflet import *"
   ]
  },
  {
   "cell_type": "code",
   "execution_count": 3,
   "id": "8cee6ebe-62bb-4211-b6ea-9ed42658c00d",
   "metadata": {},
   "outputs": [],
   "source": [
    "gdf = gpd.read_file('data/fullwbmodel_invyld/bc_fma_clean/bc1_inv90m.shp')"
   ]
  },
  {
   "cell_type": "code",
   "execution_count": 4,
   "id": "a13e802d-9ff4-424d-9034-42de8144b2e2",
   "metadata": {},
   "outputs": [
    {
     "data": {
      "text/html": [
       "<div>\n",
       "<style scoped>\n",
       "    .dataframe tbody tr th:only-of-type {\n",
       "        vertical-align: middle;\n",
       "    }\n",
       "\n",
       "    .dataframe tbody tr th {\n",
       "        vertical-align: top;\n",
       "    }\n",
       "\n",
       "    .dataframe thead th {\n",
       "        text-align: right;\n",
       "    }\n",
       "</style>\n",
       "<table border=\"1\" class=\"dataframe\">\n",
       "  <thead>\n",
       "    <tr style=\"text-align: right;\">\n",
       "      <th></th>\n",
       "      <th>pointid</th>\n",
       "      <th>fma</th>\n",
       "      <th>dist</th>\n",
       "      <th>cc</th>\n",
       "      <th>aw</th>\n",
       "      <th>area_ha</th>\n",
       "      <th>bcov</th>\n",
       "      <th>ygrp</th>\n",
       "      <th>dc</th>\n",
       "      <th>stAge</th>\n",
       "      <th>stHt</th>\n",
       "      <th>geometry</th>\n",
       "    </tr>\n",
       "  </thead>\n",
       "  <tbody>\n",
       "    <tr>\n",
       "      <th>0</th>\n",
       "      <td>464699</td>\n",
       "      <td>1</td>\n",
       "      <td>200.0</td>\n",
       "      <td>12.000000</td>\n",
       "      <td>0.0</td>\n",
       "      <td>0.09</td>\n",
       "      <td>C-Sw</td>\n",
       "      <td>C-Sw_0_A_18</td>\n",
       "      <td>A</td>\n",
       "      <td>18</td>\n",
       "      <td>0</td>\n",
       "      <td>POINT (-1938120.714 2573763.164)</td>\n",
       "    </tr>\n",
       "    <tr>\n",
       "      <th>1</th>\n",
       "      <td>483391</td>\n",
       "      <td>1</td>\n",
       "      <td>200.0</td>\n",
       "      <td>16.000000</td>\n",
       "      <td>0.0</td>\n",
       "      <td>0.09</td>\n",
       "      <td>C-Sw</td>\n",
       "      <td>C-Sw_1_A_18</td>\n",
       "      <td>A</td>\n",
       "      <td>18</td>\n",
       "      <td>1</td>\n",
       "      <td>POINT (-1943250.714 2572773.164)</td>\n",
       "    </tr>\n",
       "    <tr>\n",
       "      <th>2</th>\n",
       "      <td>483392</td>\n",
       "      <td>1</td>\n",
       "      <td>200.0</td>\n",
       "      <td>12.666667</td>\n",
       "      <td>0.0</td>\n",
       "      <td>0.27</td>\n",
       "      <td>C-Sw</td>\n",
       "      <td>C-Sw_0_A_12</td>\n",
       "      <td>A</td>\n",
       "      <td>12</td>\n",
       "      <td>0</td>\n",
       "      <td>POINT (-1943160.714 2572773.164)</td>\n",
       "    </tr>\n",
       "    <tr>\n",
       "      <th>3</th>\n",
       "      <td>485119</td>\n",
       "      <td>1</td>\n",
       "      <td>200.0</td>\n",
       "      <td>16.000000</td>\n",
       "      <td>0.0</td>\n",
       "      <td>0.09</td>\n",
       "      <td>C-Sw</td>\n",
       "      <td>C-Sw_1_A_21</td>\n",
       "      <td>A</td>\n",
       "      <td>21</td>\n",
       "      <td>1</td>\n",
       "      <td>POINT (-1943250.714 2572683.164)</td>\n",
       "    </tr>\n",
       "    <tr>\n",
       "      <th>4</th>\n",
       "      <td>485120</td>\n",
       "      <td>1</td>\n",
       "      <td>200.0</td>\n",
       "      <td>12.000000</td>\n",
       "      <td>0.0</td>\n",
       "      <td>0.09</td>\n",
       "      <td>C-Sw</td>\n",
       "      <td>C-Sw_0_A_12</td>\n",
       "      <td>A</td>\n",
       "      <td>12</td>\n",
       "      <td>0</td>\n",
       "      <td>POINT (-1943160.714 2572683.164)</td>\n",
       "    </tr>\n",
       "    <tr>\n",
       "      <th>...</th>\n",
       "      <td>...</td>\n",
       "      <td>...</td>\n",
       "      <td>...</td>\n",
       "      <td>...</td>\n",
       "      <td>...</td>\n",
       "      <td>...</td>\n",
       "      <td>...</td>\n",
       "      <td>...</td>\n",
       "      <td>...</td>\n",
       "      <td>...</td>\n",
       "      <td>...</td>\n",
       "      <td>...</td>\n",
       "    </tr>\n",
       "    <tr>\n",
       "      <th>1759279</th>\n",
       "      <td>9070355</td>\n",
       "      <td>1</td>\n",
       "      <td>200.0</td>\n",
       "      <td>42.000000</td>\n",
       "      <td>0.0</td>\n",
       "      <td>0.09</td>\n",
       "      <td>C-Pj</td>\n",
       "      <td>C-Pj_30_B_32</td>\n",
       "      <td>B</td>\n",
       "      <td>32</td>\n",
       "      <td>30</td>\n",
       "      <td>POINT (-1868730.714 2346243.164)</td>\n",
       "    </tr>\n",
       "    <tr>\n",
       "      <th>1759280</th>\n",
       "      <td>9070356</td>\n",
       "      <td>1</td>\n",
       "      <td>200.0</td>\n",
       "      <td>68.000000</td>\n",
       "      <td>0.0</td>\n",
       "      <td>0.09</td>\n",
       "      <td>C-Sw</td>\n",
       "      <td>C-Sw_44_C_159</td>\n",
       "      <td>C</td>\n",
       "      <td>159</td>\n",
       "      <td>44</td>\n",
       "      <td>POINT (-1868640.714 2346243.164)</td>\n",
       "    </tr>\n",
       "    <tr>\n",
       "      <th>1759281</th>\n",
       "      <td>9070357</td>\n",
       "      <td>1</td>\n",
       "      <td>200.0</td>\n",
       "      <td>52.000000</td>\n",
       "      <td>0.0</td>\n",
       "      <td>0.18</td>\n",
       "      <td>C-Pj</td>\n",
       "      <td>C-Pj_42_C_98</td>\n",
       "      <td>C</td>\n",
       "      <td>98</td>\n",
       "      <td>42</td>\n",
       "      <td>POINT (-1868370.714 2346243.164)</td>\n",
       "    </tr>\n",
       "    <tr>\n",
       "      <th>1759282</th>\n",
       "      <td>9073992</td>\n",
       "      <td>1</td>\n",
       "      <td>200.0</td>\n",
       "      <td>31.000000</td>\n",
       "      <td>0.0</td>\n",
       "      <td>0.18</td>\n",
       "      <td>C-Pj</td>\n",
       "      <td>C-Pj_23_B_87</td>\n",
       "      <td>B</td>\n",
       "      <td>87</td>\n",
       "      <td>23</td>\n",
       "      <td>POINT (-1868460.714 2346153.164)</td>\n",
       "    </tr>\n",
       "    <tr>\n",
       "      <th>1759283</th>\n",
       "      <td>9073993</td>\n",
       "      <td>1</td>\n",
       "      <td>200.0</td>\n",
       "      <td>37.750000</td>\n",
       "      <td>0.0</td>\n",
       "      <td>0.36</td>\n",
       "      <td>C-Pj</td>\n",
       "      <td>C-Pj_25_B_67</td>\n",
       "      <td>B</td>\n",
       "      <td>67</td>\n",
       "      <td>25</td>\n",
       "      <td>POINT (-1868280.714 2346153.164)</td>\n",
       "    </tr>\n",
       "  </tbody>\n",
       "</table>\n",
       "<p>1759284 rows × 12 columns</p>\n",
       "</div>"
      ],
      "text/plain": [
       "         pointid  fma   dist         cc   aw  area_ha  bcov           ygrp dc  \\\n",
       "0         464699    1  200.0  12.000000  0.0     0.09  C-Sw    C-Sw_0_A_18  A   \n",
       "1         483391    1  200.0  16.000000  0.0     0.09  C-Sw    C-Sw_1_A_18  A   \n",
       "2         483392    1  200.0  12.666667  0.0     0.27  C-Sw    C-Sw_0_A_12  A   \n",
       "3         485119    1  200.0  16.000000  0.0     0.09  C-Sw    C-Sw_1_A_21  A   \n",
       "4         485120    1  200.0  12.000000  0.0     0.09  C-Sw    C-Sw_0_A_12  A   \n",
       "...          ...  ...    ...        ...  ...      ...   ...            ... ..   \n",
       "1759279  9070355    1  200.0  42.000000  0.0     0.09  C-Pj   C-Pj_30_B_32  B   \n",
       "1759280  9070356    1  200.0  68.000000  0.0     0.09  C-Sw  C-Sw_44_C_159  C   \n",
       "1759281  9070357    1  200.0  52.000000  0.0     0.18  C-Pj   C-Pj_42_C_98  C   \n",
       "1759282  9073992    1  200.0  31.000000  0.0     0.18  C-Pj   C-Pj_23_B_87  B   \n",
       "1759283  9073993    1  200.0  37.750000  0.0     0.36  C-Pj   C-Pj_25_B_67  B   \n",
       "\n",
       "         stAge  stHt                          geometry  \n",
       "0           18     0  POINT (-1938120.714 2573763.164)  \n",
       "1           18     1  POINT (-1943250.714 2572773.164)  \n",
       "2           12     0  POINT (-1943160.714 2572773.164)  \n",
       "3           21     1  POINT (-1943250.714 2572683.164)  \n",
       "4           12     0  POINT (-1943160.714 2572683.164)  \n",
       "...        ...   ...                               ...  \n",
       "1759279     32    30  POINT (-1868730.714 2346243.164)  \n",
       "1759280    159    44  POINT (-1868640.714 2346243.164)  \n",
       "1759281     98    42  POINT (-1868370.714 2346243.164)  \n",
       "1759282     87    23  POINT (-1868460.714 2346153.164)  \n",
       "1759283     67    25  POINT (-1868280.714 2346153.164)  \n",
       "\n",
       "[1759284 rows x 12 columns]"
      ]
     },
     "execution_count": 4,
     "metadata": {},
     "output_type": "execute_result"
    }
   ],
   "source": [
    "gdf"
   ]
  },
  {
   "cell_type": "code",
   "execution_count": 262,
   "id": "ad606a68-b37a-4b79-ab0f-6227343a7225",
   "metadata": {},
   "outputs": [
    {
     "data": {
      "text/plain": [
       "<matplotlib.axes._subplots.AxesSubplot at 0x7fe1f9c24160>"
      ]
     },
     "execution_count": 262,
     "metadata": {},
     "output_type": "execute_result"
    },
    {
     "data": {
      "image/png": "[encoded data removed]",
      "text/plain": [
       "<Figure size 432x288 with 1 Axes>"
      ]
     },
     "metadata": {
      "needs_background": "light"
     },
     "output_type": "display_data"
    }
   ],
   "source": [
    "gdf.area_ha.hist(bins=20)"
   ]
  },
  {
   "cell_type": "code",
   "execution_count": 254,
   "id": "77acff4c-0c86-436a-b805-490e73bdd8b3",
   "metadata": {},
   "outputs": [],
   "source": [
    "gdf_geometry_points = gdf.geometry"
   ]
  },
  {
   "cell_type": "code",
   "execution_count": 255,
   "id": "205d55ee-aa5d-4ed3-8e6a-9586cc482559",
   "metadata": {},
   "outputs": [],
   "source": [
    "gdf_geometry_squares = gdf_geometry_points.buffer(45, cap_style=3)"
   ]
  },
  {
   "cell_type": "code",
   "execution_count": 256,
   "id": "d712daff-23a6-478c-900b-80e25a67ef41",
   "metadata": {},
   "outputs": [],
   "source": [
    "gdf.geometry = gdf_geometry_squares"
   ]
  },
  {
   "cell_type": "code",
   "execution_count": 258,
   "id": "97f0eaf4-b3f0-4455-b252-0b186f9fef2e",
   "metadata": {},
   "outputs": [],
   "source": [
    "gdf['area_ha_squares'] = gdf.geometry.area * 0.0001"
   ]
  },
  {
   "cell_type": "code",
   "execution_count": 6,
   "id": "9379eda1-7cd9-40d9-a44e-fca67d28e86a",
   "metadata": {},
   "outputs": [],
   "source": [
    "#gdf.bounds"
   ]
  },
  {
   "cell_type": "code",
   "execution_count": 276,
   "id": "a63811b4-c79e-472e-a876-56ccc59236f6",
   "metadata": {},
   "outputs": [],
   "source": [
    "gdf = gdf.sort_values('area_ha', ascending=False)"
   ]
  },
  {
   "cell_type": "code",
   "execution_count": 281,
   "id": "72a02a3c-654a-4662-a563-fea39bd09282",
   "metadata": {},
   "outputs": [
    {
     "data": {
      "text/html": [
       "<div>\n",
       "<style scoped>\n",
       "    .dataframe tbody tr th:only-of-type {\n",
       "        vertical-align: middle;\n",
       "    }\n",
       "\n",
       "    .dataframe tbody tr th {\n",
       "        vertical-align: top;\n",
       "    }\n",
       "\n",
       "    .dataframe thead th {\n",
       "        text-align: right;\n",
       "    }\n",
       "</style>\n",
       "<table border=\"1\" class=\"dataframe\">\n",
       "  <thead>\n",
       "    <tr style=\"text-align: right;\">\n",
       "      <th></th>\n",
       "      <th>pointid</th>\n",
       "      <th>fma</th>\n",
       "      <th>dist</th>\n",
       "      <th>cc</th>\n",
       "      <th>aw</th>\n",
       "      <th>area_ha</th>\n",
       "      <th>bcov</th>\n",
       "      <th>ygrp</th>\n",
       "      <th>dc</th>\n",
       "      <th>stAge</th>\n",
       "      <th>stHt</th>\n",
       "      <th>geometry</th>\n",
       "      <th>area_ha_squares</th>\n",
       "      <th>area_ha_cs</th>\n",
       "    </tr>\n",
       "  </thead>\n",
       "  <tbody>\n",
       "    <tr>\n",
       "      <th>1663050</th>\n",
       "      <td>7669204</td>\n",
       "      <td>1</td>\n",
       "      <td>200.0</td>\n",
       "      <td>36.111111</td>\n",
       "      <td>0.000000</td>\n",
       "      <td>0.81</td>\n",
       "      <td>C-Sw</td>\n",
       "      <td>C-Sw_16_B_95</td>\n",
       "      <td>B</td>\n",
       "      <td>95</td>\n",
       "      <td>16</td>\n",
       "      <td>POLYGON ((-1749075.714 2383548.164, -1749075.7...</td>\n",
       "      <td>0.81</td>\n",
       "      <td>0.81</td>\n",
       "    </tr>\n",
       "    <tr>\n",
       "      <th>143745</th>\n",
       "      <td>1205709</td>\n",
       "      <td>1</td>\n",
       "      <td>200.0</td>\n",
       "      <td>50.222221</td>\n",
       "      <td>0.000000</td>\n",
       "      <td>0.81</td>\n",
       "      <td>C-Sw</td>\n",
       "      <td>C-Sw_20_C_126</td>\n",
       "      <td>C</td>\n",
       "      <td>126</td>\n",
       "      <td>20</td>\n",
       "      <td>POLYGON ((-1924575.714 2543928.164, -1924575.7...</td>\n",
       "      <td>0.81</td>\n",
       "      <td>1.62</td>\n",
       "    </tr>\n",
       "    <tr>\n",
       "      <th>512000</th>\n",
       "      <td>2152028</td>\n",
       "      <td>1</td>\n",
       "      <td>200.0</td>\n",
       "      <td>26.333334</td>\n",
       "      <td>0.222222</td>\n",
       "      <td>0.81</td>\n",
       "      <td>C-Sw</td>\n",
       "      <td>C-Sw_7_A_55</td>\n",
       "      <td>A</td>\n",
       "      <td>55</td>\n",
       "      <td>7</td>\n",
       "      <td>POLYGON ((-1883535.714 2517288.164, -1883535.7...</td>\n",
       "      <td>0.81</td>\n",
       "      <td>2.43</td>\n",
       "    </tr>\n",
       "    <tr>\n",
       "      <th>512001</th>\n",
       "      <td>2152029</td>\n",
       "      <td>1</td>\n",
       "      <td>200.0</td>\n",
       "      <td>26.000000</td>\n",
       "      <td>0.000000</td>\n",
       "      <td>0.81</td>\n",
       "      <td>C-Sw</td>\n",
       "      <td>C-Sw_5_A_41</td>\n",
       "      <td>A</td>\n",
       "      <td>41</td>\n",
       "      <td>5</td>\n",
       "      <td>POLYGON ((-1883445.714 2517288.164, -1883445.7...</td>\n",
       "      <td>0.81</td>\n",
       "      <td>3.24</td>\n",
       "    </tr>\n",
       "    <tr>\n",
       "      <th>512002</th>\n",
       "      <td>2152030</td>\n",
       "      <td>1</td>\n",
       "      <td>200.0</td>\n",
       "      <td>19.222221</td>\n",
       "      <td>3.333333</td>\n",
       "      <td>0.81</td>\n",
       "      <td>C-Pj</td>\n",
       "      <td>C-Pj_2_A_29</td>\n",
       "      <td>A</td>\n",
       "      <td>29</td>\n",
       "      <td>2</td>\n",
       "      <td>POLYGON ((-1883355.714 2517288.164, -1883355.7...</td>\n",
       "      <td>0.81</td>\n",
       "      <td>4.05</td>\n",
       "    </tr>\n",
       "  </tbody>\n",
       "</table>\n",
       "</div>"
      ],
      "text/plain": [
       "         pointid  fma   dist         cc        aw  area_ha  bcov  \\\n",
       "1663050  7669204    1  200.0  36.111111  0.000000     0.81  C-Sw   \n",
       "143745   1205709    1  200.0  50.222221  0.000000     0.81  C-Sw   \n",
       "512000   2152028    1  200.0  26.333334  0.222222     0.81  C-Sw   \n",
       "512001   2152029    1  200.0  26.000000  0.000000     0.81  C-Sw   \n",
       "512002   2152030    1  200.0  19.222221  3.333333     0.81  C-Pj   \n",
       "\n",
       "                  ygrp dc  stAge  stHt  \\\n",
       "1663050   C-Sw_16_B_95  B     95    16   \n",
       "143745   C-Sw_20_C_126  C    126    20   \n",
       "512000     C-Sw_7_A_55  A     55     7   \n",
       "512001     C-Sw_5_A_41  A     41     5   \n",
       "512002     C-Pj_2_A_29  A     29     2   \n",
       "\n",
       "                                                  geometry  area_ha_squares  \\\n",
       "1663050  POLYGON ((-1749075.714 2383548.164, -1749075.7...             0.81   \n",
       "143745   POLYGON ((-1924575.714 2543928.164, -1924575.7...             0.81   \n",
       "512000   POLYGON ((-1883535.714 2517288.164, -1883535.7...             0.81   \n",
       "512001   POLYGON ((-1883445.714 2517288.164, -1883445.7...             0.81   \n",
       "512002   POLYGON ((-1883355.714 2517288.164, -1883355.7...             0.81   \n",
       "\n",
       "         area_ha_cs  \n",
       "1663050        0.81  \n",
       "143745         1.62  \n",
       "512000         2.43  \n",
       "512001         3.24  \n",
       "512002         4.05  "
      ]
     },
     "execution_count": 281,
     "metadata": {},
     "output_type": "execute_result"
    }
   ],
   "source": [
    "gdf.head()"
   ]
  },
  {
   "cell_type": "code",
   "execution_count": 282,
   "id": "aefc511a-c26e-4f41-b36f-963e50f0bc81",
   "metadata": {},
   "outputs": [],
   "source": [
    "gdf['area_ha_cs'] = gdf.area_ha_squares.cumsum()"
   ]
  },
  {
   "cell_type": "code",
   "execution_count": 286,
   "id": "8fe362d9-ff75-48b1-9a50-22b194d3a049",
   "metadata": {},
   "outputs": [],
   "source": [
    "gdf_ = gdf.query('area_ha_cs < %i' % int(gdf.area_ha.sum()))"
   ]
  },
  {
   "cell_type": "code",
   "execution_count": 287,
   "id": "a553f1b0-71fa-4413-9a4a-ae2673a093ca",
   "metadata": {},
   "outputs": [
    {
     "data": {
      "text/plain": [
       "((1759284, 14), (1588243, 14))"
      ]
     },
     "execution_count": 287,
     "metadata": {},
     "output_type": "execute_result"
    }
   ],
   "source": [
    "gdf.shape, gdf_.shape"
   ]
  },
  {
   "cell_type": "code",
   "execution_count": 288,
   "id": "e5ed825f-7cfe-4075-8af8-ad54caf6cb82",
   "metadata": {},
   "outputs": [
    {
     "data": {
      "text/plain": [
       "1286476.8300000026"
      ]
     },
     "execution_count": 288,
     "metadata": {},
     "output_type": "execute_result"
    }
   ],
   "source": [
    "gdf_.area_ha_squares.sum()"
   ]
  },
  {
   "cell_type": "code",
   "execution_count": 289,
   "id": "46968d85-1495-49ae-b8e8-e023d6dcd968",
   "metadata": {},
   "outputs": [
    {
     "data": {
      "text/plain": [
       "1286477.2800000026"
      ]
     },
     "execution_count": 289,
     "metadata": {},
     "output_type": "execute_result"
    }
   ],
   "source": [
    "gdf.area_ha.sum()"
   ]
  },
  {
   "cell_type": "code",
   "execution_count": 290,
   "id": "eb8792ef-fe89-485a-b9e5-7991f031b6b0",
   "metadata": {},
   "outputs": [
    {
     "name": "stderr",
     "output_type": "stream",
     "text": [
      "/opt/jupyterhub/lib/python3.8/site-packages/geopandas/io/file.py:362: FutureWarning: pandas.Int64Index is deprecated and will be removed from pandas in a future version. Use pandas.Index with the appropriate dtype instead.\n",
      "  pd.Int64Index,\n",
      "/tmp/ipykernel_372245/804359541.py:1: UserWarning: Column names longer than 10 characters will be truncated when saved to ESRI Shapefile.\n",
      "  gdf_.to_file('data/foo2.shp')\n"
     ]
    }
   ],
   "source": [
    "gdf_.to_file('data/foo2.shp')"
   ]
  },
  {
   "cell_type": "code",
   "execution_count": null,
   "id": "36e65911-83c9-4bf1-b3ee-c650d0f11d2f",
   "metadata": {},
   "outputs": [],
   "source": [
    "from libpysal.cg.voronoi import voronoi, voronoi_frames\n",
    "from libpysal.cg import alpha_shape_auto"
   ]
  },
  {
   "cell_type": "code",
   "execution_count": 218,
   "id": "66b18e50-b6a9-4e44-910b-e64433fda27b",
   "metadata": {},
   "outputs": [],
   "source": [
    "gdf_ = gdf.sample(1000)"
   ]
  },
  {
   "cell_type": "code",
   "execution_count": 219,
   "id": "b38f4fec-4304-4197-beb0-e62fabca9178",
   "metadata": {},
   "outputs": [],
   "source": [
    "coords = np.column_stack((gdf.geometry.x, gdf.geometry.y))\n",
    "coords_ = np.column_stack((gdf_.geometry.x, gdf_.geometry.y))"
   ]
  },
  {
   "cell_type": "code",
   "execution_count": 220,
   "id": "3c051e2c-c386-48f4-aca1-d102cd94d8c4",
   "metadata": {},
   "outputs": [
    {
     "name": "stderr",
     "output_type": "stream",
     "text": [
      "/home/gparadis/.local/lib/python3.8/site-packages/libpysal/cg/alpha_shapes.py:578: UserWarning: Numba not imported, so alpha shape construction may be slower than expected.\n",
      "  warn(NUMBA_WARN)\n"
     ]
    }
   ],
   "source": [
    "clip = alpha_shape_auto(coords_).buffer(45)"
   ]
  },
  {
   "cell_type": "code",
   "execution_count": 221,
   "id": "5204db1e-086f-46ed-a320-06603ad41d5b",
   "metadata": {},
   "outputs": [],
   "source": [
    "region_df, points_df = voronoi_frames(coords, clip=clip)"
   ]
  },
  {
   "cell_type": "code",
   "execution_count": 230,
   "id": "cbeecdae-e392-4343-958f-442753c157c6",
   "metadata": {},
   "outputs": [],
   "source": [
    "center = (clip.representative_point().y, \n",
    "          clip.representative_point().x)"
   ]
  },
  {
   "cell_type": "code",
   "execution_count": 232,
   "id": "1b97b88a-eec0-483f-bc18-75e20538fd6a",
   "metadata": {},
   "outputs": [],
   "source": [
    "m = Map(basemap=basemaps.CartoDB.Positron, center=center, zoom=6)"
   ]
  },
  {
   "cell_type": "code",
   "execution_count": null,
   "id": "5acaae51-3992-4292-a2ba-4a544a8312c3",
   "metadata": {},
   "outputs": [],
   "source": [
    "gd_regions = GeoData(geo_dataframe=region_df, \n",
    "                     name='regions')\n",
    "m.add_layer(gd_regions)"
   ]
  },
  {
   "cell_type": "code",
   "execution_count": 154,
   "id": "2174d89b-48c4-47bf-86ab-4c8837f381a6",
   "metadata": {},
   "outputs": [],
   "source": [
    "#gd_points = GeoData(geo_dataframe=gdf, \n",
    "#                    name='points',\n",
    "#                    point_style={'radius': 2, 'color': 'blue', 'fillOpacity': 0.2, 'fillColor': 'blue', 'weight': 1})"
   ]
  },
  {
   "cell_type": "code",
   "execution_count": 236,
   "id": "15bd6057-71bc-4aaa-a279-01650e518e3e",
   "metadata": {},
   "outputs": [],
   "source": [
    "#m.add_layer(gd)\n",
    "wktlayer = WKTLayer(wkt_string=clip.wkt)\n",
    "m.add_layer(wktlayer)\n",
    "m.add_control(LayersControl())"
   ]
  },
  {
   "cell_type": "code",
   "execution_count": 237,
   "id": "e81081e6-747f-428f-bd8a-58b3c8689b78",
   "metadata": {},
   "outputs": [
    {
     "data": {
      "application/vnd.jupyter.widget-view+json": {
       "model_id": "d1a34931f94d4b5690ca6ca3c2b81fcd",
       "version_major": 2,
       "version_minor": 0
      },
      "text/plain": [
       "Map(center=[2463973.674919598, -1883903.107596678], controls=(ZoomControl(options=['position', 'zoom_in_text',…"
      ]
     },
     "metadata": {},
     "output_type": "display_data"
    }
   ],
   "source": [
    "m"
   ]
  },
  {
   "cell_type": "code",
   "execution_count": 207,
   "id": "3d23a292-04d4-4565-9c86-acd26c054295",
   "metadata": {},
   "outputs": [
    {
     "name": "stderr",
     "output_type": "stream",
     "text": [
      "/home/gparadis/.local/lib/python3.8/site-packages/libpysal/cg/alpha_shapes.py:578: UserWarning: Numba not imported, so alpha shape construction may be slower than expected.\n",
      "  warn(NUMBA_WARN)\n"
     ]
    }
   ],
   "source": [
    "from libpysal.cg.voronoi import voronoi, voronoi_frames\n",
    "from libpysal.cg import alpha_shape_auto\n",
    "points = coord_list = [(x,y) for x,y in zip(gdf_['geometry'].x , gdf_['geometry'].y)]\n",
    "clip = alpha_shape_auto(np.array(points)).buffer(0.1)\n",
    "region_df, points_df = voronoi_frames(points, clip=clip)"
   ]
  },
  {
   "cell_type": "code",
   "execution_count": 208,
   "id": "0e9bfa97-cc71-4ee1-84c9-353f614bdd19",
   "metadata": {},
   "outputs": [],
   "source": [
    "gd_regions = GeoData(geo_dataframe=region_df, \n",
    "                     name='regions')\n",
    "m.add_layer(gd_regions)"
   ]
  },
  {
   "cell_type": "code",
   "execution_count": 209,
   "id": "28afe72d-3bdc-4940-b1a2-9a1650c6b794",
   "metadata": {},
   "outputs": [
    {
     "data": {
      "application/vnd.jupyter.widget-view+json": {
       "model_id": "25cdec35487044acb16b1c3bbe5557a6",
       "version_major": 2,
       "version_minor": 0
      },
      "text/plain": [
       "Map(center=[57.95209316343358, -129.60110258172412], controls=(ZoomControl(options=['position', 'zoom_in_text'…"
      ]
     },
     "metadata": {},
     "output_type": "display_data"
    }
   ],
   "source": [
    "m"
   ]
  },
  {
   "cell_type": "code",
   "execution_count": null,
   "id": "4a4c15b8-ed01-40df-8488-30b0bd0f962a",
   "metadata": {},
   "outputs": [],
   "source": []
  },
  {
   "cell_type": "code",
   "execution_count": 7,
   "id": "d14031be-f205-42ac-9c06-c07c3aacd1e4",
   "metadata": {
    "tags": []
   },
   "outputs": [
    {
     "name": "stderr",
     "output_type": "stream",
     "text": [
      "/opt/jupyterhub/lib/python3.8/site-packages/shapely/ops.py:42: ShapelyDeprecationWarning: Iteration over multi-part geometries is deprecated and will be removed in Shapely 2.0. Use the `geoms` property to access the constituent parts of a multi-part geometry.\n",
      "  source = iter(source)\n",
      "/home/gparadis/.local/lib/python3.8/site-packages/alphashape/optimizealpha.py:41: ShapelyDeprecationWarning: Iteration over multi-part geometries is deprecated and will be removed in Shapely 2.0. Use the `geoms` property to access the constituent parts of a multi-part geometry.\n",
      "  return all([polygon.intersects(point) for point in points])\n"
     ]
    }
   ],
   "source": [
    "ap = alphashape.alphashape(gdf.sample(100).geometry)"
   ]
  },
  {
   "cell_type": "code",
   "execution_count": 41,
   "id": "455a34a5-c194-4722-8c3b-86f85994dfef",
   "metadata": {},
   "outputs": [
    {
     "data": {
      "application/vnd.jupyter.widget-view+json": {
       "model_id": "4a2faaad37df4528a9696e911efdc69f",
       "version_major": 2,
       "version_minor": 0
      },
      "text/plain": [
       "Map(center=[array('d', [-1900682.6532133245]), array('d', [2467027.6865087515])], controls=(ZoomControl(option…"
      ]
     },
     "metadata": {},
     "output_type": "display_data"
    }
   ],
   "source": [
    "m = Map(basemap=basemaps.CartoDB.Positron, center=)\n",
    "#m.add_layer(ap)\n",
    "m"
   ]
  },
  {
   "cell_type": "code",
   "execution_count": 10,
   "id": "31c896f3-29fd-4ca1-9207-c7886d5729fb",
   "metadata": {},
   "outputs": [],
   "source": [
    "wktlayer = WKTLayer(wkt_string=ap.wkt)"
   ]
  },
  {
   "cell_type": "code",
   "execution_count": 11,
   "id": "ce3bde6f-4200-4637-9f96-b6d31ffac478",
   "metadata": {},
   "outputs": [
    {
     "data": {
      "text/plain": [
       "ipyleaflet.leaflet.WKTLayer"
      ]
     },
     "execution_count": 11,
     "metadata": {},
     "output_type": "execute_result"
    }
   ],
   "source": [
    "type(wktlayer)"
   ]
  },
  {
   "cell_type": "code",
   "execution_count": 12,
   "id": "34bc86b1-b80a-4970-b760-f06c00c91104",
   "metadata": {},
   "outputs": [
    {
     "data": {
      "application/vnd.jupyter.widget-view+json": {
       "model_id": "33ca1101743244c99dc99423d5b8d635",
       "version_major": 2,
       "version_minor": 0
      },
      "text/plain": [
       "WKTLayer(data={'geometry': {'type': 'Polygon', 'coordinates': (((-1869450.7135999985, 2348313.163911717), (-18…"
      ]
     },
     "metadata": {},
     "output_type": "display_data"
    }
   ],
   "source": [
    "wktlayer"
   ]
  },
  {
   "cell_type": "code",
   "execution_count": 20,
   "id": "40228581-053d-4c93-a602-1192358a12db",
   "metadata": {},
   "outputs": [
    {
     "ename": "TraitError",
     "evalue": "The 'crs' trait of a Map instance expected a dict, not the CRS <Derived Projected CRS: ESRI:102001>\nName: Canada_Albers_Equal_Area_Conic\nAxis Info [cartesian]:\n- [east]: Easting (metre)\n- [north]: Northing (metre)\nArea of Use:\n- undefined\nCoordinate Operation:\n- name: unnamed\n- method: Albers Equal Area\nDatum: North American Datum 1983\n- Ellipsoid: GRS 1980\n- Prime Meridian: Greenwich\n.",
     "output_type": "error",
     "traceback": [
      "\u001b[0;31m---------------------------------------------------------------------------\u001b[0m",
      "\u001b[0;31mTraitError\u001b[0m                                Traceback (most recent call last)",
      "Input \u001b[0;32mIn [20]\u001b[0m, in \u001b[0;36m<module>\u001b[0;34m\u001b[0m\n\u001b[0;32m----> 1\u001b[0m m \u001b[38;5;241m=\u001b[39m \u001b[43mMap\u001b[49m\u001b[43m(\u001b[49m\u001b[43mbasemap\u001b[49m\u001b[38;5;241;43m=\u001b[39;49m\u001b[43mbasemaps\u001b[49m\u001b[38;5;241;43m.\u001b[39;49m\u001b[43mCartoDB\u001b[49m\u001b[38;5;241;43m.\u001b[39;49m\u001b[43mPositron\u001b[49m\u001b[43m,\u001b[49m\u001b[43m \u001b[49m\u001b[43mcrs\u001b[49m\u001b[38;5;241;43m=\u001b[39;49m\u001b[43mgdf\u001b[49m\u001b[38;5;241;43m.\u001b[39;49m\u001b[43mcrs\u001b[49m\u001b[43m)\u001b[49m\n\u001b[1;32m      2\u001b[0m \u001b[38;5;66;03m#m = Map(basemap=basemaps.CartoDB.Positron, center=ap.centroid.xy)\u001b[39;00m\n\u001b[1;32m      3\u001b[0m wktlayer \u001b[38;5;241m=\u001b[39m WKTLayer(wkt_string\u001b[38;5;241m=\u001b[39map\u001b[38;5;241m.\u001b[39mwkt)\n",
      "File \u001b[0;32m~/.local/lib/python3.8/site-packages/ipyleaflet/leaflet.py:2089\u001b[0m, in \u001b[0;36mMap.__init__\u001b[0;34m(self, **kwargs)\u001b[0m\n\u001b[1;32m   2086\u001b[0m \u001b[38;5;28mself\u001b[39m\u001b[38;5;241m.\u001b[39mzoom_control_instance \u001b[38;5;241m=\u001b[39m \u001b[38;5;28;01mNone\u001b[39;00m\n\u001b[1;32m   2087\u001b[0m \u001b[38;5;28mself\u001b[39m\u001b[38;5;241m.\u001b[39mattribution_control_instance \u001b[38;5;241m=\u001b[39m \u001b[38;5;28;01mNone\u001b[39;00m\n\u001b[0;32m-> 2089\u001b[0m \u001b[38;5;28;43msuper\u001b[39;49m\u001b[43m(\u001b[49m\u001b[43mMap\u001b[49m\u001b[43m,\u001b[49m\u001b[43m \u001b[49m\u001b[38;5;28;43mself\u001b[39;49m\u001b[43m)\u001b[49m\u001b[38;5;241;43m.\u001b[39;49m\u001b[38;5;21;43m__init__\u001b[39;49m\u001b[43m(\u001b[49m\u001b[38;5;241;43m*\u001b[39;49m\u001b[38;5;241;43m*\u001b[39;49m\u001b[43mkwargs\u001b[49m\u001b[43m)\u001b[49m\n\u001b[1;32m   2090\u001b[0m \u001b[38;5;28mself\u001b[39m\u001b[38;5;241m.\u001b[39mon_msg(\u001b[38;5;28mself\u001b[39m\u001b[38;5;241m.\u001b[39m_handle_leaflet_event)\n\u001b[1;32m   2092\u001b[0m \u001b[38;5;28;01mif\u001b[39;00m \u001b[38;5;28mself\u001b[39m\u001b[38;5;241m.\u001b[39mzoom_control:\n",
      "File \u001b[0;32m/opt/jupyterhub/lib/python3.8/site-packages/ipywidgets/widgets/widget.py:412\u001b[0m, in \u001b[0;36mWidget.__init__\u001b[0;34m(self, **kwargs)\u001b[0m\n\u001b[1;32m    410\u001b[0m \u001b[38;5;124;03m\"\"\"Public constructor\"\"\"\u001b[39;00m\n\u001b[1;32m    411\u001b[0m \u001b[38;5;28mself\u001b[39m\u001b[38;5;241m.\u001b[39m_model_id \u001b[38;5;241m=\u001b[39m kwargs\u001b[38;5;241m.\u001b[39mpop(\u001b[38;5;124m'\u001b[39m\u001b[38;5;124mmodel_id\u001b[39m\u001b[38;5;124m'\u001b[39m, \u001b[38;5;28;01mNone\u001b[39;00m)\n\u001b[0;32m--> 412\u001b[0m \u001b[38;5;28;43msuper\u001b[39;49m\u001b[43m(\u001b[49m\u001b[43mWidget\u001b[49m\u001b[43m,\u001b[49m\u001b[43m \u001b[49m\u001b[38;5;28;43mself\u001b[39;49m\u001b[43m)\u001b[49m\u001b[38;5;241;43m.\u001b[39;49m\u001b[38;5;21;43m__init__\u001b[39;49m\u001b[43m(\u001b[49m\u001b[38;5;241;43m*\u001b[39;49m\u001b[38;5;241;43m*\u001b[39;49m\u001b[43mkwargs\u001b[49m\u001b[43m)\u001b[49m\n\u001b[1;32m    414\u001b[0m Widget\u001b[38;5;241m.\u001b[39m_call_widget_constructed(\u001b[38;5;28mself\u001b[39m)\n\u001b[1;32m    415\u001b[0m \u001b[38;5;28mself\u001b[39m\u001b[38;5;241m.\u001b[39mopen()\n",
      "File \u001b[0;32m/opt/jupyterhub/lib/python3.8/site-packages/traitlets/traitlets.py:1079\u001b[0m, in \u001b[0;36mHasTraits.__init__\u001b[0;34m(self, *args, **kwargs)\u001b[0m\n\u001b[1;32m   1077\u001b[0m \u001b[38;5;28;01mfor\u001b[39;00m key, value \u001b[38;5;129;01min\u001b[39;00m kwargs\u001b[38;5;241m.\u001b[39mitems():\n\u001b[1;32m   1078\u001b[0m     \u001b[38;5;28;01mif\u001b[39;00m \u001b[38;5;28mself\u001b[39m\u001b[38;5;241m.\u001b[39mhas_trait(key):\n\u001b[0;32m-> 1079\u001b[0m         \u001b[38;5;28;43msetattr\u001b[39;49m\u001b[43m(\u001b[49m\u001b[38;5;28;43mself\u001b[39;49m\u001b[43m,\u001b[49m\u001b[43m \u001b[49m\u001b[43mkey\u001b[49m\u001b[43m,\u001b[49m\u001b[43m \u001b[49m\u001b[43mvalue\u001b[49m\u001b[43m)\u001b[49m\n\u001b[1;32m   1080\u001b[0m     \u001b[38;5;28;01melse\u001b[39;00m:\n\u001b[1;32m   1081\u001b[0m         \u001b[38;5;66;03m# passthrough args that don't set traits to super\u001b[39;00m\n\u001b[1;32m   1082\u001b[0m         super_kwargs[key] \u001b[38;5;241m=\u001b[39m value\n",
      "File \u001b[0;32m/opt/jupyterhub/lib/python3.8/site-packages/traitlets/traitlets.py:606\u001b[0m, in \u001b[0;36mTraitType.__set__\u001b[0;34m(self, obj, value)\u001b[0m\n\u001b[1;32m    604\u001b[0m     \u001b[38;5;28;01mraise\u001b[39;00m TraitError(\u001b[38;5;124m'\u001b[39m\u001b[38;5;124mThe \u001b[39m\u001b[38;5;124m\"\u001b[39m\u001b[38;5;132;01m%s\u001b[39;00m\u001b[38;5;124m\"\u001b[39m\u001b[38;5;124m trait is read-only.\u001b[39m\u001b[38;5;124m'\u001b[39m \u001b[38;5;241m%\u001b[39m \u001b[38;5;28mself\u001b[39m\u001b[38;5;241m.\u001b[39mname)\n\u001b[1;32m    605\u001b[0m \u001b[38;5;28;01melse\u001b[39;00m:\n\u001b[0;32m--> 606\u001b[0m     \u001b[38;5;28;43mself\u001b[39;49m\u001b[38;5;241;43m.\u001b[39;49m\u001b[43mset\u001b[49m\u001b[43m(\u001b[49m\u001b[43mobj\u001b[49m\u001b[43m,\u001b[49m\u001b[43m \u001b[49m\u001b[43mvalue\u001b[49m\u001b[43m)\u001b[49m\n",
      "File \u001b[0;32m/opt/jupyterhub/lib/python3.8/site-packages/traitlets/traitlets.py:580\u001b[0m, in \u001b[0;36mTraitType.set\u001b[0;34m(self, obj, value)\u001b[0m\n\u001b[1;32m    579\u001b[0m \u001b[38;5;28;01mdef\u001b[39;00m \u001b[38;5;21mset\u001b[39m(\u001b[38;5;28mself\u001b[39m, obj, value):\n\u001b[0;32m--> 580\u001b[0m     new_value \u001b[38;5;241m=\u001b[39m \u001b[38;5;28;43mself\u001b[39;49m\u001b[38;5;241;43m.\u001b[39;49m\u001b[43m_validate\u001b[49m\u001b[43m(\u001b[49m\u001b[43mobj\u001b[49m\u001b[43m,\u001b[49m\u001b[43m \u001b[49m\u001b[43mvalue\u001b[49m\u001b[43m)\u001b[49m\n\u001b[1;32m    581\u001b[0m     \u001b[38;5;28;01mtry\u001b[39;00m:\n\u001b[1;32m    582\u001b[0m         old_value \u001b[38;5;241m=\u001b[39m obj\u001b[38;5;241m.\u001b[39m_trait_values[\u001b[38;5;28mself\u001b[39m\u001b[38;5;241m.\u001b[39mname]\n",
      "File \u001b[0;32m/opt/jupyterhub/lib/python3.8/site-packages/traitlets/traitlets.py:612\u001b[0m, in \u001b[0;36mTraitType._validate\u001b[0;34m(self, obj, value)\u001b[0m\n\u001b[1;32m    610\u001b[0m     \u001b[38;5;28;01mreturn\u001b[39;00m value\n\u001b[1;32m    611\u001b[0m \u001b[38;5;28;01mif\u001b[39;00m \u001b[38;5;28mhasattr\u001b[39m(\u001b[38;5;28mself\u001b[39m, \u001b[38;5;124m'\u001b[39m\u001b[38;5;124mvalidate\u001b[39m\u001b[38;5;124m'\u001b[39m):\n\u001b[0;32m--> 612\u001b[0m     value \u001b[38;5;241m=\u001b[39m \u001b[38;5;28;43mself\u001b[39;49m\u001b[38;5;241;43m.\u001b[39;49m\u001b[43mvalidate\u001b[49m\u001b[43m(\u001b[49m\u001b[43mobj\u001b[49m\u001b[43m,\u001b[49m\u001b[43m \u001b[49m\u001b[43mvalue\u001b[49m\u001b[43m)\u001b[49m\n\u001b[1;32m    613\u001b[0m \u001b[38;5;28;01mif\u001b[39;00m obj\u001b[38;5;241m.\u001b[39m_cross_validation_lock \u001b[38;5;129;01mis\u001b[39;00m \u001b[38;5;28;01mFalse\u001b[39;00m:\n\u001b[1;32m    614\u001b[0m     value \u001b[38;5;241m=\u001b[39m \u001b[38;5;28mself\u001b[39m\u001b[38;5;241m.\u001b[39m_cross_validate(obj, value)\n",
      "File \u001b[0;32m/opt/jupyterhub/lib/python3.8/site-packages/traitlets/traitlets.py:2965\u001b[0m, in \u001b[0;36mDict.validate\u001b[0;34m(self, obj, value)\u001b[0m\n\u001b[1;32m   2964\u001b[0m \u001b[38;5;28;01mdef\u001b[39;00m \u001b[38;5;21mvalidate\u001b[39m(\u001b[38;5;28mself\u001b[39m, obj, value):\n\u001b[0;32m-> 2965\u001b[0m     value \u001b[38;5;241m=\u001b[39m \u001b[38;5;28;43msuper\u001b[39;49m\u001b[43m(\u001b[49m\u001b[43mDict\u001b[49m\u001b[43m,\u001b[49m\u001b[43m \u001b[49m\u001b[38;5;28;43mself\u001b[39;49m\u001b[43m)\u001b[49m\u001b[38;5;241;43m.\u001b[39;49m\u001b[43mvalidate\u001b[49m\u001b[43m(\u001b[49m\u001b[43mobj\u001b[49m\u001b[43m,\u001b[49m\u001b[43m \u001b[49m\u001b[43mvalue\u001b[49m\u001b[43m)\u001b[49m\n\u001b[1;32m   2966\u001b[0m     \u001b[38;5;28;01mif\u001b[39;00m value \u001b[38;5;129;01mis\u001b[39;00m \u001b[38;5;28;01mNone\u001b[39;00m:\n\u001b[1;32m   2967\u001b[0m         \u001b[38;5;28;01mreturn\u001b[39;00m value\n",
      "File \u001b[0;32m/opt/jupyterhub/lib/python3.8/site-packages/traitlets/traitlets.py:1851\u001b[0m, in \u001b[0;36mInstance.validate\u001b[0;34m(self, obj, value)\u001b[0m\n\u001b[1;32m   1849\u001b[0m     \u001b[38;5;28;01mreturn\u001b[39;00m value\n\u001b[1;32m   1850\u001b[0m \u001b[38;5;28;01melse\u001b[39;00m:\n\u001b[0;32m-> 1851\u001b[0m     \u001b[38;5;28;43mself\u001b[39;49m\u001b[38;5;241;43m.\u001b[39;49m\u001b[43merror\u001b[49m\u001b[43m(\u001b[49m\u001b[43mobj\u001b[49m\u001b[43m,\u001b[49m\u001b[43m \u001b[49m\u001b[43mvalue\u001b[49m\u001b[43m)\u001b[49m\n",
      "File \u001b[0;32m/opt/jupyterhub/lib/python3.8/site-packages/traitlets/traitlets.py:692\u001b[0m, in \u001b[0;36mTraitType.error\u001b[0;34m(self, obj, value, error, info)\u001b[0m\n\u001b[1;32m    689\u001b[0m \u001b[38;5;28;01melse\u001b[39;00m:\n\u001b[1;32m    690\u001b[0m     e \u001b[38;5;241m=\u001b[39m \u001b[38;5;124m\"\u001b[39m\u001b[38;5;124mThe \u001b[39m\u001b[38;5;124m'\u001b[39m\u001b[38;5;132;01m%s\u001b[39;00m\u001b[38;5;124m'\u001b[39m\u001b[38;5;124m trait expected \u001b[39m\u001b[38;5;132;01m%s\u001b[39;00m\u001b[38;5;124m, not \u001b[39m\u001b[38;5;132;01m%s\u001b[39;00m\u001b[38;5;124m.\u001b[39m\u001b[38;5;124m\"\u001b[39m \u001b[38;5;241m%\u001b[39m (\n\u001b[1;32m    691\u001b[0m         \u001b[38;5;28mself\u001b[39m\u001b[38;5;241m.\u001b[39mname, \u001b[38;5;28mself\u001b[39m\u001b[38;5;241m.\u001b[39minfo(), describe(\u001b[38;5;124m\"\u001b[39m\u001b[38;5;124mthe\u001b[39m\u001b[38;5;124m\"\u001b[39m, value))\n\u001b[0;32m--> 692\u001b[0m \u001b[38;5;28;01mraise\u001b[39;00m TraitError(e)\n",
      "\u001b[0;31mTraitError\u001b[0m: The 'crs' trait of a Map instance expected a dict, not the CRS <Derived Projected CRS: ESRI:102001>\nName: Canada_Albers_Equal_Area_Conic\nAxis Info [cartesian]:\n- [east]: Easting (metre)\n- [north]: Northing (metre)\nArea of Use:\n- undefined\nCoordinate Operation:\n- name: unnamed\n- method: Albers Equal Area\nDatum: North American Datum 1983\n- Ellipsoid: GRS 1980\n- Prime Meridian: Greenwich\n."
     ]
    }
   ],
   "source": [
    "m = Map(basemap=basemaps.CartoDB.Positron, crs=gdf.crs)\n",
    "#m = Map(basemap=basemaps.CartoDB.Positron, center=ap.centroid.xy)\n",
    "wktlayer = WKTLayer(wkt_string=ap.wkt)\n",
    "m.add_layer(wktlayer)"
   ]
  },
  {
   "cell_type": "code",
   "execution_count": 15,
   "id": "2f3bbb87-2818-45ee-b8c1-cc5839599836",
   "metadata": {
    "tags": []
   },
   "outputs": [
    {
     "data": {
      "application/vnd.jupyter.widget-view+json": {
       "model_id": "dacd56e54c864e7c8162685778aa459a",
       "version_major": 2,
       "version_minor": 0
      },
      "text/plain": [
       "Map(center=[0.0, 0.0], controls=(ZoomControl(options=['position', 'zoom_in_text', 'zoom_in_title', 'zoom_out_t…"
      ]
     },
     "metadata": {},
     "output_type": "display_data"
    }
   ],
   "source": [
    "m"
   ]
  },
  {
   "cell_type": "code",
   "execution_count": 39,
   "id": "4fb730ce-9863-44b9-94cc-2c6e692f3345",
   "metadata": {},
   "outputs": [
    {
     "data": {
      "application/vnd.jupyter.widget-view+json": {
       "model_id": "aa02d833793e48d1bb226a7f20b15543",
       "version_major": 2,
       "version_minor": 0
      },
      "text/plain": [
       "Map(center=[0.0, 0.0], controls=(ZoomControl(options=['position', 'zoom_in_text', 'zoom_in_title', 'zoom_out_t…"
      ]
     },
     "metadata": {},
     "output_type": "display_data"
    }
   ],
   "source": [
    "Map(basemap=basemaps.CartoDB.Positron)\n"
   ]
  },
  {
   "cell_type": "code",
   "execution_count": 46,
   "id": "4a6450d8-8a94-40be-b339-ce5817d17aae",
   "metadata": {},
   "outputs": [
    {
     "data": {
      "application/vnd.jupyter.widget-view+json": {
       "model_id": "f8c043e403c8436da7c72d7b22e234ea",
       "version_major": 2,
       "version_minor": 0
      },
      "text/plain": [
       "WKTLayer(data={'geometry': {'type': 'Polygon', 'coordinates': (((-1799700.7136000004, 2405643.1639117207), (-1…"
      ]
     },
     "metadata": {},
     "output_type": "display_data"
    }
   ],
   "source": [
    "wktlayer"
   ]
  },
  {
   "cell_type": "code",
   "execution_count": null,
   "id": "d3a0d3d1-9fa9-4a8c-a0eb-06ac63ecc3fc",
   "metadata": {},
   "outputs": [],
   "source": []
  },
  {
   "cell_type": "code",
   "execution_count": 6,
   "id": "e5cbd0c3-d640-46f4-84c4-52cde25f669a",
   "metadata": {},
   "outputs": [
    {
     "data": {
      "application/vnd.jupyter.widget-view+json": {
       "model_id": "5f3c91d4052d473fbf50b87ee17a1258",
       "version_major": 2,
       "version_minor": 0
      },
      "text/plain": [
       "Map(center=[52.204793, 360.121558], controls=(ZoomControl(options=['position', 'zoom_in_text', 'zoom_in_title'…"
      ]
     },
     "metadata": {},
     "output_type": "display_data"
    }
   ],
   "source": [
    "m = Map(\n",
    "    layers=(basemap_to_tiles(basemaps.NASAGIBS.ModisTerraTrueColorCR, \"2017-04-08\"), ),\n",
    "    center=(52.204793, 360.121558),\n",
    "    zoom=4\n",
    ")\n",
    "\n",
    "m"
   ]
  },
  {
   "cell_type": "code",
   "execution_count": 7,
   "id": "95e0abff-e952-493a-974c-e80d90391b79",
   "metadata": {},
   "outputs": [
    {
     "data": {
      "text/plain": [
       "ipyleaflet.leaflet.Map"
      ]
     },
     "execution_count": 7,
     "metadata": {},
     "output_type": "execute_result"
    }
   ],
   "source": [
    "type(m)"
   ]
  },
  {
   "cell_type": "code",
   "execution_count": 49,
   "id": "4840a4b1-5488-44cf-8524-dfeb8629f99d",
   "metadata": {},
   "outputs": [
    {
     "data": {
      "application/vnd.jupyter.widget-view+json": {
       "model_id": "dc641c8ae7484f878c2054adfc96fb32",
       "version_major": 2,
       "version_minor": 0
      },
      "text/plain": [
       "Map(center=[53.551086, 9.993682], controls=(ZoomControl(options=['position', 'zoom_in_text', 'zoom_in_title', …"
      ]
     },
     "metadata": {},
     "output_type": "display_data"
    }
   ],
   "source": [
    "from ipyleaflet import Map, Marker\n",
    "start_location = (53.551086, 9.993682)\n",
    "m = Map(center=start_location, zoom=16, scroll_wheel_zoom=True)\n",
    "display(m)"
   ]
  },
  {
   "cell_type": "code",
   "execution_count": 72,
   "id": "1372919d-a2a2-4d65-8aea-889a1df1cc3a",
   "metadata": {},
   "outputs": [],
   "source": [
    "from shapely.ops import transform\n",
    "import pyproj"
   ]
  },
  {
   "cell_type": "code",
   "execution_count": 137,
   "id": "8e0d483e-cce1-4f43-a00b-24b17b3509af",
   "metadata": {},
   "outputs": [],
   "source": [
    "gdf_ = gdf.sample(100)"
   ]
  },
  {
   "cell_type": "code",
   "execution_count": 138,
   "id": "a61eeed0-e4d9-48a2-ad93-0aa04f0c4d4a",
   "metadata": {},
   "outputs": [
    {
     "name": "stderr",
     "output_type": "stream",
     "text": [
      "/tmp/ipykernel_372245/2081168483.py:2: UserWarning: Geometry is in a geographic CRS. Results from 'centroid' are likely incorrect. Use 'GeoSeries.to_crs()' to re-project geometries to a projected CRS before this operation.\n",
      "\n",
      "  c = gdf_.dissolve().centroid.loc[0]\n"
     ]
    }
   ],
   "source": [
    "gdf_ = gdf_.to_crs('EPSG:4326')\n",
    "c = gdf_.dissolve().centroid.loc[0]\n",
    "center = (c.y, c.x)"
   ]
  },
  {
   "cell_type": "code",
   "execution_count": 148,
   "id": "5ae32525-59e4-4198-a484-5fadb7018ccb",
   "metadata": {},
   "outputs": [
    {
     "name": "stderr",
     "output_type": "stream",
     "text": [
      "/opt/jupyterhub/lib/python3.8/site-packages/shapely/ops.py:42: ShapelyDeprecationWarning: Iteration over multi-part geometries is deprecated and will be removed in Shapely 2.0. Use the `geoms` property to access the constituent parts of a multi-part geometry.\n",
      "  source = iter(source)\n",
      "/home/gparadis/.local/lib/python3.8/site-packages/alphashape/optimizealpha.py:41: ShapelyDeprecationWarning: Iteration over multi-part geometries is deprecated and will be removed in Shapely 2.0. Use the `geoms` property to access the constituent parts of a multi-part geometry.\n",
      "  return all([polygon.intersects(point) for point in points])\n"
     ]
    }
   ],
   "source": [
    "ap = alphashape.alphashape(gdf_.geometry)"
   ]
  },
  {
   "cell_type": "code",
   "execution_count": 154,
   "id": "e471d504",
   "metadata": {},
   "outputs": [],
   "source": [
    "gd = GeoData(geo_dataframe=gdf_, \n",
    "             name='points',\n",
    "             point_style={'radius': 2, 'color': 'blue', 'fillOpacity': 0.2, 'fillColor': 'blue', 'weight': 1})"
   ]
  },
  {
   "cell_type": "code",
   "execution_count": 205,
   "id": "985b94de-6248-495a-bd68-5d250fdf51b7",
   "metadata": {},
   "outputs": [],
   "source": [
    "m = Map(basemap=basemaps.CartoDB.Positron, center=center, zoom=6)"
   ]
  },
  {
   "cell_type": "code",
   "execution_count": 206,
   "id": "9008af8c-8db0-4142-95df-0e6db89bead8",
   "metadata": {},
   "outputs": [],
   "source": [
    "m.add_layer(gd)\n",
    "#wktlayer = WKTLayer(wkt_string=ap.wkt)\n",
    "#m.add_layer(wktlayer)\n",
    "m.add_control(LayersControl())"
   ]
  },
  {
   "cell_type": "code",
   "execution_count": null,
   "id": "9d081fb0-fa2f-4d65-95d9-85ba25513a8a",
   "metadata": {},
   "outputs": [],
   "source": []
  },
  {
   "cell_type": "code",
   "execution_count": 207,
   "id": "c94e6845-0079-4234-895a-4cdddb28e472",
   "metadata": {},
   "outputs": [
    {
     "name": "stderr",
     "output_type": "stream",
     "text": [
      "/home/gparadis/.local/lib/python3.8/site-packages/libpysal/cg/alpha_shapes.py:578: UserWarning: Numba not imported, so alpha shape construction may be slower than expected.\n",
      "  warn(NUMBA_WARN)\n"
     ]
    }
   ],
   "source": [
    "from libpysal.cg.voronoi import voronoi, voronoi_frames\n",
    "from libpysal.cg import alpha_shape_auto\n",
    "points = coord_list = [(x,y) for x,y in zip(gdf_['geometry'].x , gdf_['geometry'].y)]\n",
    "clip = alpha_shape_auto(np.array(points)).buffer(0.1)\n",
    "region_df, points_df = voronoi_frames(points, clip=clip)"
   ]
  },
  {
   "cell_type": "code",
   "execution_count": 208,
   "id": "b74938f7-486a-4663-a37f-8f5c1313b1eb",
   "metadata": {},
   "outputs": [],
   "source": [
    "gd_regions = GeoData(geo_dataframe=region_df, \n",
    "                     name='regions')\n",
    "m.add_layer(gd_regions)"
   ]
  },
  {
   "cell_type": "code",
   "execution_count": 209,
   "id": "273f323c-0e22-4314-ad76-f625ad496f15",
   "metadata": {},
   "outputs": [
    {
     "data": {
      "application/vnd.jupyter.widget-view+json": {
       "model_id": "25cdec35487044acb16b1c3bbe5557a6",
       "version_major": 2,
       "version_minor": 0
      },
      "text/plain": [
       "Map(center=[57.95209316343358, -129.60110258172412], controls=(ZoomControl(options=['position', 'zoom_in_text'…"
      ]
     },
     "metadata": {},
     "output_type": "display_data"
    }
   ],
   "source": [
    "m"
   ]
  },
  {
   "cell_type": "code",
   "execution_count": 158,
   "id": "7abb64e3-87ec-4f16-9ebb-63887cf42cfe",
   "metadata": {},
   "outputs": [],
   "source": [
    "from scipy.spatial import Voronoi"
   ]
  },
  {
   "cell_type": "code",
   "execution_count": 159,
   "id": "5251e8f6-41b9-47e4-8a1b-3dfe8b6b2574",
   "metadata": {},
   "outputs": [],
   "source": [
    "import numpy as np"
   ]
  },
  {
   "cell_type": "code",
   "execution_count": 166,
   "id": "f9955114-2471-4b85-85e1-251090227b80",
   "metadata": {},
   "outputs": [],
   "source": []
  },
  {
   "cell_type": "code",
   "execution_count": 176,
   "id": "c1dda480-1bad-46a3-814a-290bdd8c6802",
   "metadata": {},
   "outputs": [
    {
     "data": {
      "text/html": [
       "<div>\n",
       "<style scoped>\n",
       "    .dataframe tbody tr th:only-of-type {\n",
       "        vertical-align: middle;\n",
       "    }\n",
       "\n",
       "    .dataframe tbody tr th {\n",
       "        vertical-align: top;\n",
       "    }\n",
       "\n",
       "    .dataframe thead th {\n",
       "        text-align: right;\n",
       "    }\n",
       "</style>\n",
       "<table border=\"1\" class=\"dataframe\">\n",
       "  <thead>\n",
       "    <tr style=\"text-align: right;\">\n",
       "      <th></th>\n",
       "      <th>geometry</th>\n",
       "    </tr>\n",
       "  </thead>\n",
       "  <tbody>\n",
       "    <tr>\n",
       "      <th>0</th>\n",
       "      <td>POLYGON ((-130.11162 57.62570, -130.01559 57.6...</td>\n",
       "    </tr>\n",
       "    <tr>\n",
       "      <th>1</th>\n",
       "      <td>POLYGON ((-131.32885 57.65508, -131.34067 57.7...</td>\n",
       "    </tr>\n",
       "    <tr>\n",
       "      <th>2</th>\n",
       "      <td>POLYGON ((-128.25675 58.10209, -128.18093 58.1...</td>\n",
       "    </tr>\n",
       "    <tr>\n",
       "      <th>3</th>\n",
       "      <td>POLYGON ((-130.65460 57.01090, -130.80229 57.2...</td>\n",
       "    </tr>\n",
       "    <tr>\n",
       "      <th>4</th>\n",
       "      <td>POLYGON ((-130.21916 57.45914, -130.13011 57.4...</td>\n",
       "    </tr>\n",
       "    <tr>\n",
       "      <th>...</th>\n",
       "      <td>...</td>\n",
       "    </tr>\n",
       "    <tr>\n",
       "      <th>95</th>\n",
       "      <td>POLYGON ((-127.45612 57.99186, -127.43499 58.0...</td>\n",
       "    </tr>\n",
       "    <tr>\n",
       "      <th>96</th>\n",
       "      <td>POLYGON ((-129.77070 57.93440, -129.82081 57.8...</td>\n",
       "    </tr>\n",
       "    <tr>\n",
       "      <th>97</th>\n",
       "      <td>POLYGON ((-129.65385 57.95257, -129.70268 58.1...</td>\n",
       "    </tr>\n",
       "    <tr>\n",
       "      <th>98</th>\n",
       "      <td>POLYGON ((-129.88979 58.22822, -129.91862 58.2...</td>\n",
       "    </tr>\n",
       "    <tr>\n",
       "      <th>99</th>\n",
       "      <td>POLYGON ((-129.79047 57.77432, -129.82081 57.8...</td>\n",
       "    </tr>\n",
       "  </tbody>\n",
       "</table>\n",
       "<p>100 rows × 1 columns</p>\n",
       "</div>"
      ],
      "text/plain": [
       "                                             geometry\n",
       "0   POLYGON ((-130.11162 57.62570, -130.01559 57.6...\n",
       "1   POLYGON ((-131.32885 57.65508, -131.34067 57.7...\n",
       "2   POLYGON ((-128.25675 58.10209, -128.18093 58.1...\n",
       "3   POLYGON ((-130.65460 57.01090, -130.80229 57.2...\n",
       "4   POLYGON ((-130.21916 57.45914, -130.13011 57.4...\n",
       "..                                                ...\n",
       "95  POLYGON ((-127.45612 57.99186, -127.43499 58.0...\n",
       "96  POLYGON ((-129.77070 57.93440, -129.82081 57.8...\n",
       "97  POLYGON ((-129.65385 57.95257, -129.70268 58.1...\n",
       "98  POLYGON ((-129.88979 58.22822, -129.91862 58.2...\n",
       "99  POLYGON ((-129.79047 57.77432, -129.82081 57.8...\n",
       "\n",
       "[100 rows x 1 columns]"
      ]
     },
     "execution_count": 176,
     "metadata": {},
     "output_type": "execute_result"
    }
   ],
   "source": [
    "region_df"
   ]
  },
  {
   "cell_type": "code",
   "execution_count": null,
   "id": "b25358ba-dba7-4fd7-b35d-1b2780d6e33d",
   "metadata": {},
   "outputs": [],
   "source": []
  }
 ],
 "metadata": {
  "kernelspec": {
   "display_name": "Python 3 (ipykernel)",
   "language": "python",
   "name": "python3"
  },
  "language_info": {
   "codemirror_mode": {
    "name": "ipython",
    "version": 3
   },
   "file_extension": ".py",
   "mimetype": "text/x-python",
   "name": "python",
   "nbconvert_exporter": "python",
   "pygments_lexer": "ipython3",
   "version": "3.8.10"
  }
 },
 "nbformat": 4,
 "nbformat_minor": 5
}
